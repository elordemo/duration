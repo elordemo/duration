{
 "cells": [
  {
   "cell_type": "code",
   "execution_count": 1,
   "id": "0c6fcc10",
   "metadata": {},
   "outputs": [
    {
     "name": "stdout",
     "output_type": "stream",
     "text": [
      "baslama zamanı: 1676818034.0688586\n",
      "bitis zamanı: 1676818039.0731735\n",
      "toplam geçirilen süre: 5\n"
     ]
    }
   ],
   "source": [
    "#Herhangi bir işlemin gerçekleşme süresini belirlemek. \n",
    "\n",
    "import time\n",
    "\n",
    "time.time()\n",
    "\n",
    "start = time.time()\n",
    "\n",
    "time.sleep(5) #gerçekleşme süresi 5 saniye bazında seçildi.\n",
    "\n",
    "end = time.time()\n",
    "\n",
    "\n",
    "print(\"baslama zamanı: {}\".format(start))\n",
    "\n",
    "print(\"bitis zamanı: {}\".format(end))\n",
    "\n",
    "print(\"toplam geçirilen süre: {}\".format(round(end-start)))"
   ]
  }
 ],
 "metadata": {
  "kernelspec": {
   "display_name": "Python 3 (ipykernel)",
   "language": "python",
   "name": "python3"
  },
  "language_info": {
   "codemirror_mode": {
    "name": "ipython",
    "version": 3
   },
   "file_extension": ".py",
   "mimetype": "text/x-python",
   "name": "python",
   "nbconvert_exporter": "python",
   "pygments_lexer": "ipython3",
   "version": "3.9.12"
  }
 },
 "nbformat": 4,
 "nbformat_minor": 5
}
